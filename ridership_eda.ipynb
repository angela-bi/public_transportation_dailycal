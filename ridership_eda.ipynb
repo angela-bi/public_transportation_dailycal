{
 "cells": [
  {
   "cell_type": "code",
   "execution_count": 3,
   "metadata": {},
   "outputs": [],
   "source": [
    "import pandas as pd\n",
    "import numpy as np\n",
    "import matplotlib.pyplot as plt\n",
    "import seaborn as sns"
   ]
  },
  {
   "cell_type": "markdown",
   "metadata": {},
   "source": [
    "## Monthly ridership EDA\n",
    "\n",
    "Data on ridership from the [Bart website](https://www.bart.gov/about/reports/ridership) for the year of 2023 is located in `ridership_data`. The folder contains data for Jan-September of 2023, correspondingly named `Ridership_202301` through `Ridership_202309`. Each xlsx file contains 4 sheets; Avg Weekday OD, Avg Saturday OD, Avg Sunday OD, Total Trips OD.\n",
    "\n",
    "In each sheet, the index corresponds to the entry stations, and the column names correspond to the exit stations. Each dataset contains 50 rows and 50 columns.\n",
    "\n",
    "I will explore total ridership for the month of January below."
   ]
  },
  {
   "cell_type": "code",
   "execution_count": 6,
   "metadata": {},
   "outputs": [
    {
     "data": {
      "text/plain": [
       "3310812.0"
      ]
     },
     "execution_count": 6,
     "metadata": {},
     "output_type": "execute_result"
    }
   ],
   "source": [
    "jan_total_trips = pd.read_excel('data/ridership_data/ridership_2023/Ridership_202301.xlsx', sheet_name='Total Trips OD', header=1, index_col='Unnamed: 0') # from total trips OD\n",
    "jan_total_trips.iloc[-1, -1]"
   ]
  },
  {
   "cell_type": "markdown",
   "metadata": {},
   "source": [
    "Last row and last column of sheet contains total entries and exits. Seperating them from the main df:\n"
   ]
  },
  {
   "cell_type": "code",
   "execution_count": 3,
   "metadata": {},
   "outputs": [],
   "source": [
    "jan_total_entries = jan_total_trips.iloc[len(jan_total_trips) - 1].iloc[:-1].to_frame()\n",
    "total_entries_and_exits = jan_total_entries.iloc[-1]\n",
    "jan_total_exits = jan_total_trips[jan_total_trips.columns[-1]].iloc[:-1].to_frame()"
   ]
  },
  {
   "cell_type": "code",
   "execution_count": 4,
   "metadata": {},
   "outputs": [
    {
     "data": {
      "text/html": [
       "<div>\n",
       "<style scoped>\n",
       "    .dataframe tbody tr th:only-of-type {\n",
       "        vertical-align: middle;\n",
       "    }\n",
       "\n",
       "    .dataframe tbody tr th {\n",
       "        vertical-align: top;\n",
       "    }\n",
       "\n",
       "    .dataframe thead th {\n",
       "        text-align: right;\n",
       "    }\n",
       "</style>\n",
       "<table border=\"1\" class=\"dataframe\">\n",
       "  <thead>\n",
       "    <tr style=\"text-align: right;\">\n",
       "      <th></th>\n",
       "      <th>RM</th>\n",
       "      <th>EN</th>\n",
       "      <th>EP</th>\n",
       "      <th>NB</th>\n",
       "      <th>BK</th>\n",
       "      <th>AS</th>\n",
       "      <th>MA</th>\n",
       "      <th>19</th>\n",
       "      <th>12</th>\n",
       "      <th>LM</th>\n",
       "      <th>...</th>\n",
       "      <th>SB</th>\n",
       "      <th>SO</th>\n",
       "      <th>MB</th>\n",
       "      <th>WD</th>\n",
       "      <th>OA</th>\n",
       "      <th>WS</th>\n",
       "      <th>ML</th>\n",
       "      <th>BE</th>\n",
       "      <th>PC</th>\n",
       "      <th>AN</th>\n",
       "    </tr>\n",
       "  </thead>\n",
       "  <tbody>\n",
       "    <tr>\n",
       "      <th>RM</th>\n",
       "      <td>528.0</td>\n",
       "      <td>1768.0</td>\n",
       "      <td>1433.0</td>\n",
       "      <td>840.0</td>\n",
       "      <td>5555.0</td>\n",
       "      <td>1124.0</td>\n",
       "      <td>1660.0</td>\n",
       "      <td>1260.0</td>\n",
       "      <td>1485.0</td>\n",
       "      <td>492.0</td>\n",
       "      <td>...</td>\n",
       "      <td>287.0</td>\n",
       "      <td>811.0</td>\n",
       "      <td>236.0</td>\n",
       "      <td>50.0</td>\n",
       "      <td>225.0</td>\n",
       "      <td>333.0</td>\n",
       "      <td>116.0</td>\n",
       "      <td>183.0</td>\n",
       "      <td>169.0</td>\n",
       "      <td>166.0</td>\n",
       "    </tr>\n",
       "    <tr>\n",
       "      <th>EN</th>\n",
       "      <td>1923.0</td>\n",
       "      <td>743.0</td>\n",
       "      <td>1461.0</td>\n",
       "      <td>959.0</td>\n",
       "      <td>7940.0</td>\n",
       "      <td>1513.0</td>\n",
       "      <td>2289.0</td>\n",
       "      <td>2776.0</td>\n",
       "      <td>3814.0</td>\n",
       "      <td>795.0</td>\n",
       "      <td>...</td>\n",
       "      <td>453.0</td>\n",
       "      <td>1435.0</td>\n",
       "      <td>503.0</td>\n",
       "      <td>169.0</td>\n",
       "      <td>543.0</td>\n",
       "      <td>448.0</td>\n",
       "      <td>308.0</td>\n",
       "      <td>377.0</td>\n",
       "      <td>71.0</td>\n",
       "      <td>179.0</td>\n",
       "    </tr>\n",
       "    <tr>\n",
       "      <th>EP</th>\n",
       "      <td>1490.0</td>\n",
       "      <td>1379.0</td>\n",
       "      <td>388.0</td>\n",
       "      <td>755.0</td>\n",
       "      <td>6333.0</td>\n",
       "      <td>906.0</td>\n",
       "      <td>1449.0</td>\n",
       "      <td>1780.0</td>\n",
       "      <td>2177.0</td>\n",
       "      <td>549.0</td>\n",
       "      <td>...</td>\n",
       "      <td>136.0</td>\n",
       "      <td>905.0</td>\n",
       "      <td>230.0</td>\n",
       "      <td>70.0</td>\n",
       "      <td>372.0</td>\n",
       "      <td>163.0</td>\n",
       "      <td>145.0</td>\n",
       "      <td>165.0</td>\n",
       "      <td>41.0</td>\n",
       "      <td>73.0</td>\n",
       "    </tr>\n",
       "    <tr>\n",
       "      <th>NB</th>\n",
       "      <td>927.0</td>\n",
       "      <td>805.0</td>\n",
       "      <td>787.0</td>\n",
       "      <td>457.0</td>\n",
       "      <td>1983.0</td>\n",
       "      <td>738.0</td>\n",
       "      <td>951.0</td>\n",
       "      <td>1634.0</td>\n",
       "      <td>1437.0</td>\n",
       "      <td>417.0</td>\n",
       "      <td>...</td>\n",
       "      <td>85.0</td>\n",
       "      <td>1298.0</td>\n",
       "      <td>252.0</td>\n",
       "      <td>33.0</td>\n",
       "      <td>484.0</td>\n",
       "      <td>197.0</td>\n",
       "      <td>161.0</td>\n",
       "      <td>181.0</td>\n",
       "      <td>42.0</td>\n",
       "      <td>71.0</td>\n",
       "    </tr>\n",
       "    <tr>\n",
       "      <th>BK</th>\n",
       "      <td>6245.0</td>\n",
       "      <td>8577.0</td>\n",
       "      <td>6506.0</td>\n",
       "      <td>2198.0</td>\n",
       "      <td>1107.0</td>\n",
       "      <td>3471.0</td>\n",
       "      <td>3665.0</td>\n",
       "      <td>4305.0</td>\n",
       "      <td>4640.0</td>\n",
       "      <td>1671.0</td>\n",
       "      <td>...</td>\n",
       "      <td>318.0</td>\n",
       "      <td>3146.0</td>\n",
       "      <td>1073.0</td>\n",
       "      <td>229.0</td>\n",
       "      <td>1578.0</td>\n",
       "      <td>595.0</td>\n",
       "      <td>938.0</td>\n",
       "      <td>1283.0</td>\n",
       "      <td>194.0</td>\n",
       "      <td>472.0</td>\n",
       "    </tr>\n",
       "  </tbody>\n",
       "</table>\n",
       "<p>5 rows × 50 columns</p>\n",
       "</div>"
      ],
      "text/plain": [
       "        RM      EN      EP      NB      BK      AS      MA      19      12  \\\n",
       "RM   528.0  1768.0  1433.0   840.0  5555.0  1124.0  1660.0  1260.0  1485.0   \n",
       "EN  1923.0   743.0  1461.0   959.0  7940.0  1513.0  2289.0  2776.0  3814.0   \n",
       "EP  1490.0  1379.0   388.0   755.0  6333.0   906.0  1449.0  1780.0  2177.0   \n",
       "NB   927.0   805.0   787.0   457.0  1983.0   738.0   951.0  1634.0  1437.0   \n",
       "BK  6245.0  8577.0  6506.0  2198.0  1107.0  3471.0  3665.0  4305.0  4640.0   \n",
       "\n",
       "        LM  ...     SB      SO      MB     WD      OA     WS     ML      BE  \\\n",
       "RM   492.0  ...  287.0   811.0   236.0   50.0   225.0  333.0  116.0   183.0   \n",
       "EN   795.0  ...  453.0  1435.0   503.0  169.0   543.0  448.0  308.0   377.0   \n",
       "EP   549.0  ...  136.0   905.0   230.0   70.0   372.0  163.0  145.0   165.0   \n",
       "NB   417.0  ...   85.0  1298.0   252.0   33.0   484.0  197.0  161.0   181.0   \n",
       "BK  1671.0  ...  318.0  3146.0  1073.0  229.0  1578.0  595.0  938.0  1283.0   \n",
       "\n",
       "       PC     AN  \n",
       "RM  169.0  166.0  \n",
       "EN   71.0  179.0  \n",
       "EP   41.0   73.0  \n",
       "NB   42.0   71.0  \n",
       "BK  194.0  472.0  \n",
       "\n",
       "[5 rows x 50 columns]"
      ]
     },
     "execution_count": 4,
     "metadata": {},
     "output_type": "execute_result"
    }
   ],
   "source": [
    "jan_total_trips = pd.read_excel('data/ridership_data/ridership_2023/Ridership_202301.xlsx', sheet_name='Total Trips OD', header=1, index_col='Unnamed: 0') # from total trips OD\n",
    "jan_total_trips.drop(jan_total_trips.columns[len(jan_total_trips.columns)-1], axis=1, inplace=True) # dropping last row - contains total entries for each station\n",
    "jan_total_trips.drop(jan_total_trips.tail(1).index,inplace=True) # dropping last column - contains total exits for each station\n",
    "jan_total_trips.head() # first 5 rows; currently 50rx50c"
   ]
  },
  {
   "cell_type": "code",
   "execution_count": 7,
   "metadata": {},
   "outputs": [
    {
     "data": {
      "image/png": "[encoded data removed]",
      "text/plain": [
       "<Figure size 1440x720 with 1 Axes>"
      ]
     },
     "metadata": {},
     "output_type": "display_data"
    }
   ],
   "source": [
    "sns.barplot(data=jan_total_entries, x=jan_total_entries.index, y=jan_total_entries['Entries'])\n",
    "sns.set(rc={'figure.figsize':(20,10)})\n",
    "plt.title('Jan 2023: Total Entries')\n",
    "plt.xlabel('Stations (abbreviated)')\n",
    "plt.ylabel('Total riders for each station');"
   ]
  },
  {
   "cell_type": "code",
   "execution_count": 6,
   "metadata": {},
   "outputs": [
    {
     "data": {
      "image/png": "[encoded data removed]",
      "text/plain": [
       "<Figure size 1440x720 with 1 Axes>"
      ]
     },
     "metadata": {},
     "output_type": "display_data"
    }
   ],
   "source": [
    "sns.barplot(data=jan_total_exits, x=jan_total_exits.index, y=jan_total_exits['Exits'])\n",
    "sns.set(rc={'figure.figsize':(20,10)})\n",
    "plt.title('Jan 2023: Total Exits')\n",
    "plt.xlabel('Stations (abbreviated)')\n",
    "plt.ylabel('Total riders for each station');"
   ]
  },
  {
   "cell_type": "markdown",
   "metadata": {},
   "source": [
    "## Annual ridership (1973-2020)\n",
    "\n",
    "Data on annual ridership from the [Bart website](https://www.bart.gov/about/reports/ridership) for the period of the fiscal years of 1973-2020 is located in `ridership_data` under `BART_Ridership_FY73_FY20`."
   ]
  },
  {
   "cell_type": "code",
   "execution_count": 8,
   "metadata": {},
   "outputs": [
    {
     "data": {
      "text/html": [
       "<div>\n",
       "<style scoped>\n",
       "    .dataframe tbody tr th:only-of-type {\n",
       "        vertical-align: middle;\n",
       "    }\n",
       "\n",
       "    .dataframe tbody tr th {\n",
       "        vertical-align: top;\n",
       "    }\n",
       "\n",
       "    .dataframe thead th {\n",
       "        text-align: right;\n",
       "    }\n",
       "</style>\n",
       "<table border=\"1\" class=\"dataframe\">\n",
       "  <thead>\n",
       "    <tr style=\"text-align: right;\">\n",
       "      <th></th>\n",
       "      <th>Total Annual Exits</th>\n",
       "      <th>Annual % Change</th>\n",
       "      <th>Average Weekday Exits</th>\n",
       "      <th>Annual % Change.1</th>\n",
       "      <th>Average Saturday Exits</th>\n",
       "      <th>Annual % Change.2</th>\n",
       "      <th>Average Sunday Exits</th>\n",
       "      <th>Annual % Change.3</th>\n",
       "      <th>Unnamed: 9</th>\n",
       "      <th>Annualization</th>\n",
       "    </tr>\n",
       "    <tr>\n",
       "      <th>Fiscal Year</th>\n",
       "      <th></th>\n",
       "      <th></th>\n",
       "      <th></th>\n",
       "      <th></th>\n",
       "      <th></th>\n",
       "      <th></th>\n",
       "      <th></th>\n",
       "      <th></th>\n",
       "      <th></th>\n",
       "      <th></th>\n",
       "    </tr>\n",
       "  </thead>\n",
       "  <tbody>\n",
       "    <tr>\n",
       "      <th>FY73</th>\n",
       "      <td>4591241.0</td>\n",
       "      <td>NaN</td>\n",
       "      <td>32000</td>\n",
       "      <td>NaN</td>\n",
       "      <td>NaN</td>\n",
       "      <td>NaN</td>\n",
       "      <td>NaN</td>\n",
       "      <td>NaN</td>\n",
       "      <td>NaN</td>\n",
       "      <td>NaN</td>\n",
       "    </tr>\n",
       "    <tr>\n",
       "      <th>FY74</th>\n",
       "      <td>13960680.0</td>\n",
       "      <td>2.040720</td>\n",
       "      <td>57399.5</td>\n",
       "      <td>0.793734</td>\n",
       "      <td>NaN</td>\n",
       "      <td>NaN</td>\n",
       "      <td>NaN</td>\n",
       "      <td>NaN</td>\n",
       "      <td>NaN</td>\n",
       "      <td>NaN</td>\n",
       "    </tr>\n",
       "    <tr>\n",
       "      <th>FY75</th>\n",
       "      <td>27876794.0</td>\n",
       "      <td>0.996808</td>\n",
       "      <td>118003</td>\n",
       "      <td>1.055819</td>\n",
       "      <td>NaN</td>\n",
       "      <td>NaN</td>\n",
       "      <td>NaN</td>\n",
       "      <td>NaN</td>\n",
       "      <td>NaN</td>\n",
       "      <td>NaN</td>\n",
       "    </tr>\n",
       "    <tr>\n",
       "      <th>FY76</th>\n",
       "      <td>32897431.0</td>\n",
       "      <td>0.180101</td>\n",
       "      <td>131000</td>\n",
       "      <td>0.110141</td>\n",
       "      <td>NaN</td>\n",
       "      <td>NaN</td>\n",
       "      <td>NaN</td>\n",
       "      <td>NaN</td>\n",
       "      <td>NaN</td>\n",
       "      <td>NaN</td>\n",
       "    </tr>\n",
       "    <tr>\n",
       "      <th>FY77</th>\n",
       "      <td>34599088.0</td>\n",
       "      <td>0.051726</td>\n",
       "      <td>133453</td>\n",
       "      <td>0.018725</td>\n",
       "      <td>NaN</td>\n",
       "      <td>NaN</td>\n",
       "      <td>NaN</td>\n",
       "      <td>NaN</td>\n",
       "      <td>NaN</td>\n",
       "      <td>NaN</td>\n",
       "    </tr>\n",
       "  </tbody>\n",
       "</table>\n",
       "</div>"
      ],
      "text/plain": [
       "             Total Annual Exits  Annual % Change Average Weekday Exits  \\\n",
       "Fiscal Year                                                              \n",
       "FY73                  4591241.0              NaN                 32000   \n",
       "FY74                 13960680.0         2.040720               57399.5   \n",
       "FY75                 27876794.0         0.996808                118003   \n",
       "FY76                 32897431.0         0.180101                131000   \n",
       "FY77                 34599088.0         0.051726                133453   \n",
       "\n",
       "             Annual % Change.1  Average Saturday Exits  Annual % Change.2  \\\n",
       "Fiscal Year                                                                 \n",
       "FY73                       NaN                     NaN                NaN   \n",
       "FY74                  0.793734                     NaN                NaN   \n",
       "FY75                  1.055819                     NaN                NaN   \n",
       "FY76                  0.110141                     NaN                NaN   \n",
       "FY77                  0.018725                     NaN                NaN   \n",
       "\n",
       "             Average Sunday Exits  Annual % Change.3  Unnamed: 9  \\\n",
       "Fiscal Year                                                        \n",
       "FY73                          NaN                NaN         NaN   \n",
       "FY74                          NaN                NaN         NaN   \n",
       "FY75                          NaN                NaN         NaN   \n",
       "FY76                          NaN                NaN         NaN   \n",
       "FY77                          NaN                NaN         NaN   \n",
       "\n",
       "             Annualization  \n",
       "Fiscal Year                 \n",
       "FY73                   NaN  \n",
       "FY74                   NaN  \n",
       "FY75                   NaN  \n",
       "FY76                   NaN  \n",
       "FY77                   NaN  "
      ]
     },
     "execution_count": 8,
     "metadata": {},
     "output_type": "execute_result"
    }
   ],
   "source": [
    "ann_rider = pd.read_excel('data/ridership_data/BART_Ridership_FY73_FY20.xlsx', header=2, index_col='Fiscal Year')\n",
    "ann_rider=ann_rider.tail(-1) # removing first row\n",
    "ann_rider.drop(ann_rider.tail(2).index,inplace=True)\n",
    "ann_rider.head()"
   ]
  },
  {
   "cell_type": "code",
   "execution_count": 10,
   "metadata": {},
   "outputs": [
    {
     "data": {
      "image/png": "[encoded data removed]",
      "text/plain": [
       "<Figure size 1440x720 with 1 Axes>"
      ]
     },
     "metadata": {},
     "output_type": "display_data"
    }
   ],
   "source": [
    "sns.barplot(data=ann_rider, x=ann_rider.index, y=ann_rider['Total Annual Exits'])\n",
    "plt.title('Annual Ridership, 1973 - 2020')\n",
    "plt.xlabel('Fiscal Year');"
   ]
  },
  {
   "cell_type": "code",
   "execution_count": 11,
   "metadata": {},
   "outputs": [
    {
     "data": {
      "text/plain": [
       "Text(0.5, 1.0, 'Annual Ridership, 2000 - 2020')"
      ]
     },
     "execution_count": 11,
     "metadata": {},
     "output_type": "execute_result"
    },
    {
     "data": {
      "image/png": "[encoded data removed]",
      "text/plain": [
       "<Figure size 1440x720 with 1 Axes>"
      ]
     },
     "metadata": {},
     "output_type": "display_data"
    }
   ],
   "source": [
    "sns.barplot(data=ann_rider.iloc[27:], x=ann_rider.iloc[27:].index, y=ann_rider.iloc[27:]['Total Annual Exits'])\n",
    "plt.title('Annual Ridership, 2000 - 2020')"
   ]
  },
  {
   "cell_type": "markdown",
   "metadata": {},
   "source": [
    "To do: Compile annual data from years 2021 and 2022"
   ]
  },
  {
   "cell_type": "code",
   "execution_count": 41,
   "metadata": {},
   "outputs": [
    {
     "data": {
      "text/plain": [
       "['Ridership_202101.xlsx',\n",
       " 'Ridership_202106.xlsx',\n",
       " 'Ridership_202110.xlsx',\n",
       " 'Ridership_202111.xlsx',\n",
       " 'Ridership_202107.xlsx',\n",
       " 'Ridership_202112.xlsx',\n",
       " 'Ridership_202104.xlsx',\n",
       " 'Ridership_202108.xlsx',\n",
       " 'Ridership_202109.xlsx',\n",
       " 'Ridership_202105.xlsx',\n",
       " 'Ridership_202102.xlsx',\n",
       " 'Ridership_202103.xlsx']"
      ]
     },
     "execution_count": 41,
     "metadata": {},
     "output_type": "execute_result"
    }
   ],
   "source": [
    "import os, sys\n",
    "# sys.path.append(os.path.join(os.path.dirname(__file__), \"lib\"))\n",
    "\n",
    "rider_21, rider_22, rider_23 = [], [], []\n",
    "\n",
    "for file in os.scandir('data/ridership_data/ridership_2021'):\n",
    "    if file.is_file():\n",
    "        rider_21.append(file.name)\n",
    "\n",
    "for file in os.scandir('data/ridership_data/ridership_2022'):\n",
    "    if file.is_file():\n",
    "        rider_22.append(file.name) \n",
    "\n",
    "for file in os.scandir('data/ridership_data/ridership_2023'):\n",
    "    if file.is_file():\n",
    "        rider_23.append(file.name)"
   ]
  },
  {
   "cell_type": "code",
   "execution_count": 44,
   "metadata": {},
   "outputs": [],
   "source": [
    "import os\n",
    "\n",
    "total_entries_and_exits_21_23 = {}\n",
    "\n",
    "for filename in os.listdir('data/ridership_data/ridership_2021'):\n",
    "    f = os.path.join('data/ridership_data/ridership_2021', filename)\n",
    "    # checking if it is a file\n",
    "    excel = pd.read_excel(f)\n",
    "    total_entries_and_exits_21_23[filename[10:16]] = excel.iloc[-1, -1]"
   ]
  },
  {
   "cell_type": "code",
   "execution_count": 45,
   "metadata": {},
   "outputs": [],
   "source": [
    "for filename in os.listdir('data/ridership_data/ridership_2022'):\n",
    "    f = os.path.join('data/ridership_data/ridership_2022', filename)\n",
    "    # checking if it is a file\n",
    "    excel = pd.read_excel(f)\n",
    "    total_entries_and_exits_21_23[filename[10:16]] = excel.iloc[-1, -1]"
   ]
  },
  {
   "cell_type": "code",
   "execution_count": 46,
   "metadata": {},
   "outputs": [],
   "source": [
    "for filename in os.listdir('data/ridership_data/ridership_2023'):\n",
    "    f = os.path.join('data/ridership_data/ridership_2023', filename)\n",
    "    # checking if it is a file\n",
    "    excel = pd.read_excel(f)\n",
    "    total_entries_and_exits_21_23[filename[10:16]] = excel.iloc[-1, -1]"
   ]
  },
  {
   "cell_type": "code",
   "execution_count": 47,
   "metadata": {},
   "outputs": [
    {
     "data": {
      "text/plain": [
       "{'202101': 43011.94736842103,\n",
       " '202106': 75962.50000000001,\n",
       " '202110': 108644.61904761904,\n",
       " '202111': 106454.49999999997,\n",
       " '202107': 83491.3181818182,\n",
       " '202112': 98658.04347826088,\n",
       " '202104': 57885.909090909096,\n",
       " '202108': 92401.81818181819,\n",
       " '202109': 103176.68181818181,\n",
       " '202105': 64933.799999999996,\n",
       " '202102': 47664.52631578948,\n",
       " '202103': 51595.47826086955,\n",
       " '202209': 155235.8181818182,\n",
       " '202205': 132160.7272727273,\n",
       " '202204': 132180.6666666667,\n",
       " '202212': 125769.22727272724,\n",
       " '202208': 143396.56521739133,\n",
       " '202203': 124094.26086956526,\n",
       " '202202': 103173.00000000004,\n",
       " '202201': 83790.47619047621,\n",
       " '202207': 130417.80952380956,\n",
       " '202211': 138853.09090909094,\n",
       " '202210': 154932.0476190476,\n",
       " '202206': 140563.54545454544,\n",
       " '202301': 126345.95454545453,\n",
       " '202307': 149296.00000000003,\n",
       " '202306': 157015.86363636356,\n",
       " '202305': 153707.5217391305,\n",
       " '202309': 165026.57142857142,\n",
       " '202308': 164875.8260869565,\n",
       " '202304': 157264.00000000003,\n",
       " '202303': 149051.08695652173,\n",
       " '202302': 145265.19999999998}"
      ]
     },
     "execution_count": 47,
     "metadata": {},
     "output_type": "execute_result"
    }
   ],
   "source": [
    "total_entries_and_exits_21_23"
   ]
  },
  {
   "cell_type": "code",
   "execution_count": 48,
   "metadata": {},
   "outputs": [
    {
     "data": {
      "text/html": [
       "<div>\n",
       "<style scoped>\n",
       "    .dataframe tbody tr th:only-of-type {\n",
       "        vertical-align: middle;\n",
       "    }\n",
       "\n",
       "    .dataframe tbody tr th {\n",
       "        vertical-align: top;\n",
       "    }\n",
       "\n",
       "    .dataframe thead th {\n",
       "        text-align: right;\n",
       "    }\n",
       "</style>\n",
       "<table border=\"1\" class=\"dataframe\">\n",
       "  <thead>\n",
       "    <tr style=\"text-align: right;\">\n",
       "      <th></th>\n",
       "      <th>0</th>\n",
       "    </tr>\n",
       "  </thead>\n",
       "  <tbody>\n",
       "    <tr>\n",
       "      <th>202101</th>\n",
       "      <td>43011.947368</td>\n",
       "    </tr>\n",
       "    <tr>\n",
       "      <th>202106</th>\n",
       "      <td>75962.500000</td>\n",
       "    </tr>\n",
       "    <tr>\n",
       "      <th>202110</th>\n",
       "      <td>108644.619048</td>\n",
       "    </tr>\n",
       "    <tr>\n",
       "      <th>202111</th>\n",
       "      <td>106454.500000</td>\n",
       "    </tr>\n",
       "    <tr>\n",
       "      <th>202107</th>\n",
       "      <td>83491.318182</td>\n",
       "    </tr>\n",
       "    <tr>\n",
       "      <th>202112</th>\n",
       "      <td>98658.043478</td>\n",
       "    </tr>\n",
       "    <tr>\n",
       "      <th>202104</th>\n",
       "      <td>57885.909091</td>\n",
       "    </tr>\n",
       "    <tr>\n",
       "      <th>202108</th>\n",
       "      <td>92401.818182</td>\n",
       "    </tr>\n",
       "    <tr>\n",
       "      <th>202109</th>\n",
       "      <td>103176.681818</td>\n",
       "    </tr>\n",
       "    <tr>\n",
       "      <th>202105</th>\n",
       "      <td>64933.800000</td>\n",
       "    </tr>\n",
       "    <tr>\n",
       "      <th>202102</th>\n",
       "      <td>47664.526316</td>\n",
       "    </tr>\n",
       "    <tr>\n",
       "      <th>202103</th>\n",
       "      <td>51595.478261</td>\n",
       "    </tr>\n",
       "    <tr>\n",
       "      <th>202209</th>\n",
       "      <td>155235.818182</td>\n",
       "    </tr>\n",
       "    <tr>\n",
       "      <th>202205</th>\n",
       "      <td>132160.727273</td>\n",
       "    </tr>\n",
       "    <tr>\n",
       "      <th>202204</th>\n",
       "      <td>132180.666667</td>\n",
       "    </tr>\n",
       "    <tr>\n",
       "      <th>202212</th>\n",
       "      <td>125769.227273</td>\n",
       "    </tr>\n",
       "    <tr>\n",
       "      <th>202208</th>\n",
       "      <td>143396.565217</td>\n",
       "    </tr>\n",
       "    <tr>\n",
       "      <th>202203</th>\n",
       "      <td>124094.260870</td>\n",
       "    </tr>\n",
       "    <tr>\n",
       "      <th>202202</th>\n",
       "      <td>103173.000000</td>\n",
       "    </tr>\n",
       "    <tr>\n",
       "      <th>202201</th>\n",
       "      <td>83790.476190</td>\n",
       "    </tr>\n",
       "    <tr>\n",
       "      <th>202207</th>\n",
       "      <td>130417.809524</td>\n",
       "    </tr>\n",
       "    <tr>\n",
       "      <th>202211</th>\n",
       "      <td>138853.090909</td>\n",
       "    </tr>\n",
       "    <tr>\n",
       "      <th>202210</th>\n",
       "      <td>154932.047619</td>\n",
       "    </tr>\n",
       "    <tr>\n",
       "      <th>202206</th>\n",
       "      <td>140563.545455</td>\n",
       "    </tr>\n",
       "    <tr>\n",
       "      <th>202301</th>\n",
       "      <td>126345.954545</td>\n",
       "    </tr>\n",
       "    <tr>\n",
       "      <th>202307</th>\n",
       "      <td>149296.000000</td>\n",
       "    </tr>\n",
       "    <tr>\n",
       "      <th>202306</th>\n",
       "      <td>157015.863636</td>\n",
       "    </tr>\n",
       "    <tr>\n",
       "      <th>202305</th>\n",
       "      <td>153707.521739</td>\n",
       "    </tr>\n",
       "    <tr>\n",
       "      <th>202309</th>\n",
       "      <td>165026.571429</td>\n",
       "    </tr>\n",
       "    <tr>\n",
       "      <th>202308</th>\n",
       "      <td>164875.826087</td>\n",
       "    </tr>\n",
       "    <tr>\n",
       "      <th>202304</th>\n",
       "      <td>157264.000000</td>\n",
       "    </tr>\n",
       "    <tr>\n",
       "      <th>202303</th>\n",
       "      <td>149051.086957</td>\n",
       "    </tr>\n",
       "    <tr>\n",
       "      <th>202302</th>\n",
       "      <td>145265.200000</td>\n",
       "    </tr>\n",
       "  </tbody>\n",
       "</table>\n",
       "</div>"
      ],
      "text/plain": [
       "                    0\n",
       "202101   43011.947368\n",
       "202106   75962.500000\n",
       "202110  108644.619048\n",
       "202111  106454.500000\n",
       "202107   83491.318182\n",
       "202112   98658.043478\n",
       "202104   57885.909091\n",
       "202108   92401.818182\n",
       "202109  103176.681818\n",
       "202105   64933.800000\n",
       "202102   47664.526316\n",
       "202103   51595.478261\n",
       "202209  155235.818182\n",
       "202205  132160.727273\n",
       "202204  132180.666667\n",
       "202212  125769.227273\n",
       "202208  143396.565217\n",
       "202203  124094.260870\n",
       "202202  103173.000000\n",
       "202201   83790.476190\n",
       "202207  130417.809524\n",
       "202211  138853.090909\n",
       "202210  154932.047619\n",
       "202206  140563.545455\n",
       "202301  126345.954545\n",
       "202307  149296.000000\n",
       "202306  157015.863636\n",
       "202305  153707.521739\n",
       "202309  165026.571429\n",
       "202308  164875.826087\n",
       "202304  157264.000000\n",
       "202303  149051.086957\n",
       "202302  145265.200000"
      ]
     },
     "execution_count": 48,
     "metadata": {},
     "output_type": "execute_result"
    }
   ],
   "source": [
    "monthly_ridership = pd.DataFrame.from_dict(total_entries_and_exits_21_23, orient='index')\n",
    "monthly_ridership"
   ]
  },
  {
   "cell_type": "code",
   "execution_count": 49,
   "metadata": {},
   "outputs": [
    {
     "data": {
      "text/plain": [
       "<AxesSubplot:ylabel='0'>"
      ]
     },
     "execution_count": 49,
     "metadata": {},
     "output_type": "execute_result"
    },
    {
     "data": {
      "image/png": "[encoded data removed]",
      "text/plain": [
       "<Figure size 432x288 with 1 Axes>"
      ]
     },
     "metadata": {
      "needs_background": "light"
     },
     "output_type": "display_data"
    }
   ],
   "source": [
    "sns.barplot(data=monthly_ridership, x=monthly_ridership.index, y=monthly_ridership[0])"
   ]
  },
  {
   "cell_type": "code",
   "execution_count": null,
   "metadata": {},
   "outputs": [],
   "source": []
  }
 ],
 "metadata": {
  "interpreter": {
   "hash": "397704579725e15f5c7cb49fe5f0341eb7531c82d19f2c29d197e8b64ab5776b"
  },
  "kernelspec": {
   "display_name": "Python 3.9.6 64-bit",
   "language": "python",
   "name": "python3"
  },
  "language_info": {
   "codemirror_mode": {
    "name": "ipython",
    "version": 3
   },
   "file_extension": ".py",
   "mimetype": "text/x-python",
   "name": "python",
   "nbconvert_exporter": "python",
   "pygments_lexer": "ipython3",
   "version": "3.9.6"
  },
  "orig_nbformat": 4
 },
 "nbformat": 4,
 "nbformat_minor": 2
}
